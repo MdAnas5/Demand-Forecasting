{
 "cells": [
  {
   "cell_type": "code",
   "execution_count": 163,
   "id": "b8611d7f",
   "metadata": {},
   "outputs": [],
   "source": [
    "# pip install pyramid"
   ]
  },
  {
   "cell_type": "code",
   "execution_count": 164,
   "id": "b7699d6d",
   "metadata": {},
   "outputs": [],
   "source": [
    "import csv\n",
    "import numpy as np\n",
    "import matplotlib.pyplot as plt\n",
    "import pandas as pd\n",
    "import pyramid\n",
    "from sklearn import metrics"
   ]
  },
  {
   "cell_type": "code",
   "execution_count": 237,
   "id": "a5105020",
   "metadata": {},
   "outputs": [
    {
     "data": {
      "text/html": [
       "<div>\n",
       "<style scoped>\n",
       "    .dataframe tbody tr th:only-of-type {\n",
       "        vertical-align: middle;\n",
       "    }\n",
       "\n",
       "    .dataframe tbody tr th {\n",
       "        vertical-align: top;\n",
       "    }\n",
       "\n",
       "    .dataframe thead th {\n",
       "        text-align: right;\n",
       "    }\n",
       "</style>\n",
       "<table border=\"1\" class=\"dataframe\">\n",
       "  <thead>\n",
       "    <tr style=\"text-align: right;\">\n",
       "      <th></th>\n",
       "      <th>SIHD_INV_DATE</th>\n",
       "      <th>QTY</th>\n",
       "    </tr>\n",
       "  </thead>\n",
       "  <tbody>\n",
       "    <tr>\n",
       "      <th>0</th>\n",
       "      <td>2019-04-30</td>\n",
       "      <td>9030</td>\n",
       "    </tr>\n",
       "    <tr>\n",
       "      <th>1</th>\n",
       "      <td>2019-05-31</td>\n",
       "      <td>9786</td>\n",
       "    </tr>\n",
       "    <tr>\n",
       "      <th>2</th>\n",
       "      <td>2019-06-30</td>\n",
       "      <td>7434</td>\n",
       "    </tr>\n",
       "    <tr>\n",
       "      <th>3</th>\n",
       "      <td>2019-07-31</td>\n",
       "      <td>8232</td>\n",
       "    </tr>\n",
       "    <tr>\n",
       "      <th>4</th>\n",
       "      <td>2019-08-31</td>\n",
       "      <td>4662</td>\n",
       "    </tr>\n",
       "  </tbody>\n",
       "</table>\n",
       "</div>"
      ],
      "text/plain": [
       "  SIHD_INV_DATE   QTY\n",
       "0    2019-04-30  9030\n",
       "1    2019-05-31  9786\n",
       "2    2019-06-30  7434\n",
       "3    2019-07-31  8232\n",
       "4    2019-08-31  4662"
      ]
     },
     "execution_count": 237,
     "metadata": {},
     "output_type": "execute_result"
    }
   ],
   "source": [
    "dataset1=pd.read_csv('MONTH-WISE_FGAS-660A-16-00087.csv')\n",
    "dataset1['SIHD_INV_DATE']=pd.to_datetime(dataset1['SIHD_INV_DATE'])\n",
    "dataset1.head()"
   ]
  },
  {
   "cell_type": "code",
   "execution_count": 238,
   "id": "68bec06c",
   "metadata": {},
   "outputs": [
    {
     "name": "stdout",
     "output_type": "stream",
     "text": [
      "1. ADF :  -2.6782322467522555\n",
      "2. P-Value :  0.07788137783626346\n",
      "3. Num Of Lags :  2\n",
      "4. Num Of Observations Used For ADF Regression: 25\n",
      "5. Critical Values :\n",
      "\t 1% :  -3.7238633119999998\n",
      "\t 5% :  -2.98648896\n",
      "\t 10% :  -2.6328004\n",
      "Data is non-stationary\n"
     ]
    }
   ],
   "source": [
    "from statsmodels.tsa.stattools import adfuller\n",
    "dftest = adfuller(dataset1['QTY'], autolag = 'AIC')\n",
    "print(\"1. ADF : \",dftest[0])\n",
    "print(\"2. P-Value : \", dftest[1])\n",
    "print(\"3. Num Of Lags : \", dftest[2])\n",
    "print(\"4. Num Of Observations Used For ADF Regression:\",      dftest[3])\n",
    "print(\"5. Critical Values :\")\n",
    "for key, val in dftest[4].items():\n",
    "    print(\"\\t\",key, \": \", val)\n",
    "if dftest[1]< 0.05:\n",
    "    print(\"Data is stationary\")\n",
    "else:\n",
    "    print(\"Data is non-stationary\")"
   ]
  },
  {
   "cell_type": "code",
   "execution_count": 240,
   "id": "a819b930",
   "metadata": {},
   "outputs": [
    {
     "data": {
      "text/plain": [
       "(0     9030\n",
       " 1     9786\n",
       " 2     7434\n",
       " 3     8232\n",
       " 4     4662\n",
       " 5     5712\n",
       " 6     4116\n",
       " 7     5334\n",
       " 8     4074\n",
       " 9     3780\n",
       " 10    6384\n",
       " 11    6426\n",
       " 12       0\n",
       " 13     630\n",
       " 14    3696\n",
       " 15    4914\n",
       " 16    3066\n",
       " 17    5880\n",
       " 18    6384\n",
       " 19    5964\n",
       " 20    3864\n",
       " 21    4242\n",
       " Name: QTY, dtype: int64,\n",
       " 22     8610\n",
       " 23     8274\n",
       " 24     6006\n",
       " 25      966\n",
       " 26     4092\n",
       " 27    10920\n",
       " Name: QTY, dtype: int64)"
      ]
     },
     "execution_count": 240,
     "metadata": {},
     "output_type": "execute_result"
    }
   ],
   "source": [
    "from sklearn.model_selection import train_test_split\n",
    "x_train,x_test,y_train,y_test=train_test_split(dataset1['SIHD_INV_DATE'],dataset1['QTY'],test_size=0.2,shuffle=False,random_state=123)\n",
    "y_train,y_test"
   ]
  },
  {
   "cell_type": "code",
   "execution_count": 241,
   "id": "20cdf9b7",
   "metadata": {},
   "outputs": [],
   "source": [
    "def timeseries_evaluation_metrics_func(y_true, y_pred):\n",
    "    def mean_absolute_percentage_error(y_true, y_pred):\n",
    "        y_true, y_pred = np.array(y_true), np.array(y_pred)\n",
    "        return np.mean(np.abs((y_true - y_pred) / y_true)) * 100\n",
    "\n",
    "    print('Evaluation metric results:-')\n",
    "    print(f'MSE is : {metrics.mean_squared_error(y_true, y_pred)}')\n",
    "    print(f'MSE is : {metrics.mean_absolute_error(y_true, y_pred)}')\n",
    "    print(f'RMSE is : {np.sqrt(metrics.mean_squared_error(y_true, y_pred))}')\n",
    "    print(f'MAPE is : {mean_absolute_percentage_error(y_true, y_pred)}')\n",
    "    print(f'R2 is : {metrics.r2_score(y_true, y_pred)}', end='\\n\\n')"
   ]
  },
  {
   "cell_type": "code",
   "execution_count": 242,
   "id": "f197297b",
   "metadata": {
    "scrolled": false
   },
   "outputs": [
    {
     "name": "stdout",
     "output_type": "stream",
     "text": [
      "Performing stepwise search to minimize aic\n",
      " ARIMA(1,0,1)(0,0,0)[0] intercept   : AIC=404.689, Time=0.04 sec\n",
      " ARIMA(0,0,0)(0,0,0)[0] intercept   : AIC=407.282, Time=0.01 sec\n",
      " ARIMA(1,0,0)(0,0,0)[0] intercept   : AIC=402.141, Time=0.06 sec\n",
      " ARIMA(0,0,1)(0,0,0)[0] intercept   : AIC=403.048, Time=0.11 sec\n",
      " ARIMA(0,0,0)(0,0,0)[0]             : AIC=444.635, Time=0.02 sec\n",
      " ARIMA(2,0,0)(0,0,0)[0] intercept   : AIC=404.059, Time=0.09 sec\n",
      " ARIMA(2,0,1)(0,0,0)[0] intercept   : AIC=405.968, Time=0.16 sec\n",
      " ARIMA(1,0,0)(0,0,0)[0]             : AIC=406.697, Time=0.03 sec\n",
      "\n",
      "Best model:  ARIMA(1,0,0)(0,0,0)[0] intercept\n",
      "Total fit time: 0.534 seconds\n",
      "                               SARIMAX Results                                \n",
      "==============================================================================\n",
      "Dep. Variable:                      y   No. Observations:                   22\n",
      "Model:               SARIMAX(1, 0, 0)   Log Likelihood                -198.070\n",
      "Date:                Sat, 08 Jan 2022   AIC                            402.141\n",
      "Time:                        12:54:59   BIC                            405.414\n",
      "Sample:                             0   HQIC                           402.912\n",
      "                                 - 22                                         \n",
      "Covariance Type:                  opg                                         \n",
      "==============================================================================\n",
      "                 coef    std err          z      P>|z|      [0.025      0.975]\n",
      "------------------------------------------------------------------------------\n",
      "intercept   2350.9791   1396.436      1.684      0.092    -385.985    5087.944\n",
      "ar.L1          0.5565      0.225      2.473      0.013       0.115       0.998\n",
      "sigma2      3.805e+06   9.56e+05      3.980      0.000    1.93e+06    5.68e+06\n",
      "===================================================================================\n",
      "Ljung-Box (L1) (Q):                   0.00   Jarque-Bera (JB):                 4.94\n",
      "Prob(Q):                              0.99   Prob(JB):                         0.08\n",
      "Heteroskedasticity (H):               0.44   Skew:                            -0.93\n",
      "Prob(H) (two-sided):                  0.30   Kurtosis:                         4.39\n",
      "===================================================================================\n",
      "\n",
      "Warnings:\n",
      "[1] Covariance matrix calculated using the outer product of gradients (complex-step).\n"
     ]
    }
   ],
   "source": [
    "from pmdarima import auto_arima\n",
    "stepwise_fit = auto_arima(y_train,start_p=1, start_q=1,\n",
    "                          d=None, trace=True,error_action='ignore',suppress_warnings=True, stepwise=True)\n",
    "print(stepwise_fit.summary())"
   ]
  },
  {
   "cell_type": "code",
   "execution_count": 243,
   "id": "6c3efdca",
   "metadata": {},
   "outputs": [],
   "source": [
    "from statsmodels.tsa.arima.model import ARIMA"
   ]
  },
  {
   "cell_type": "code",
   "execution_count": 244,
   "id": "ac9a8547",
   "metadata": {},
   "outputs": [],
   "source": [
    "model = ARIMA(y_train, order=(1,0,0))"
   ]
  },
  {
   "cell_type": "code",
   "execution_count": 245,
   "id": "53b8afce",
   "metadata": {},
   "outputs": [],
   "source": [
    "fitted_model = model.fit()"
   ]
  },
  {
   "cell_type": "code",
   "execution_count": 246,
   "id": "54ee4239",
   "metadata": {},
   "outputs": [
    {
     "data": {
      "text/plain": [
       "(22    4666.245076\n",
       " 23    4898.770035\n",
       " 24    5026.214900\n",
       " 25    5096.066298\n",
       " 26    5134.351230\n",
       " 27    5155.334861\n",
       " 28    5166.835802\n",
       " 29    5173.139366\n",
       " 30    5176.594294\n",
       " 31    5178.487909\n",
       " 32    5179.525782\n",
       " 33    5180.094632\n",
       " 34    5180.406413\n",
       " Name: predicted_mean, dtype: float64,\n",
       " 22     8610\n",
       " 23     8274\n",
       " 24     6006\n",
       " 25      966\n",
       " 26     4092\n",
       " 27    10920\n",
       " Name: QTY, dtype: int64)"
      ]
     },
     "execution_count": 246,
     "metadata": {},
     "output_type": "execute_result"
    }
   ],
   "source": [
    "fitted = fitted_model.forecast(13, alpha=0.5)\n",
    "fitted, y_test"
   ]
  },
  {
   "cell_type": "code",
   "execution_count": 247,
   "id": "52312c98",
   "metadata": {},
   "outputs": [
    {
     "data": {
      "text/plain": [
       "5093.235892107418"
      ]
     },
     "execution_count": 247,
     "metadata": {},
     "output_type": "execute_result"
    }
   ],
   "source": [
    "np.mean(fitted)"
   ]
  },
  {
   "cell_type": "code",
   "execution_count": 248,
   "id": "8fb90f20",
   "metadata": {},
   "outputs": [
    {
     "data": {
      "text/plain": [
       "6478.0"
      ]
     },
     "execution_count": 248,
     "metadata": {},
     "output_type": "execute_result"
    }
   ],
   "source": [
    "np.mean(y_test)"
   ]
  },
  {
   "cell_type": "code",
   "execution_count": null,
   "id": "461e54e8",
   "metadata": {},
   "outputs": [],
   "source": []
  }
 ],
 "metadata": {
  "kernelspec": {
   "display_name": "Python 3 (ipykernel)",
   "language": "python",
   "name": "python3"
  },
  "language_info": {
   "codemirror_mode": {
    "name": "ipython",
    "version": 3
   },
   "file_extension": ".py",
   "mimetype": "text/x-python",
   "name": "python",
   "nbconvert_exporter": "python",
   "pygments_lexer": "ipython3",
   "version": "3.9.7"
  }
 },
 "nbformat": 4,
 "nbformat_minor": 5
}
